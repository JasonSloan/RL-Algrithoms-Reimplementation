{
 "cells": [
  {
   "cell_type": "markdown",
   "id": "5183fe4d-47fe-4c86-8af7-de254459f99c",
   "metadata": {},
   "source": [
    "![](assets/44.jpg)"
   ]
  },
  {
   "cell_type": "code",
   "execution_count": 2,
   "id": "1bee4d79-b494-4972-a3ed-8e441c6a2984",
   "metadata": {
    "tags": []
   },
   "outputs": [
    {
     "name": "stdout",
     "output_type": "stream",
     "text": [
      "[7.9999933 9.999993  9.999993  9.999993 ]\n"
     ]
    }
   ],
   "source": [
    "import numpy as np\n",
    "\n",
    "gamma = 0.9\n",
    "iters = 100000\n",
    "\n",
    "v_pi = np.array(\n",
    "    [0, 0, 0, 0], dtype=np.float32\n",
    ")\n",
    "\n",
    "r_pi = np.array(\n",
    "    [-1, 1, 1, 1], dtype=np.float32\n",
    ")\n",
    "\n",
    "p_pi = np.array(\n",
    "    [\n",
    "        [0, 1, 0, 0],\n",
    "        [0, 0, 0, 1],\n",
    "        [0, 0, 0, 1],\n",
    "        [0, 0, 0, 1],\n",
    "    ], dtype=np.float32\n",
    ")\n",
    "\n",
    "for i in range(iters):\n",
    "    v_pi = r_pi + gamma * (p_pi @ v_pi)\n",
    "    \n",
    "print(v_pi)"
   ]
  },
  {
   "cell_type": "code",
   "execution_count": null,
   "id": "f77fee37-6125-4ade-93d6-f0984a6c47ed",
   "metadata": {},
   "outputs": [],
   "source": []
  }
 ],
 "metadata": {
  "kernelspec": {
   "display_name": "Python 3 (ipykernel)",
   "language": "python",
   "name": "python3"
  },
  "language_info": {
   "codemirror_mode": {
    "name": "ipython",
    "version": 3
   },
   "file_extension": ".py",
   "mimetype": "text/x-python",
   "name": "python",
   "nbconvert_exporter": "python",
   "pygments_lexer": "ipython3",
   "version": "3.11.5"
  }
 },
 "nbformat": 4,
 "nbformat_minor": 5
}
