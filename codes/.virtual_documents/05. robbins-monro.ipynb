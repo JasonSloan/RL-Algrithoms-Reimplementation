














import numpy as np
import matplotlib.pyplot as plt
%matplotlib inline


def plot_tanh():
    x = np.linspace(-10, 10, 400)
    y = np.tanh(x - 1)

    plt.figure(figsize=(8, 4))
    plt.plot(x, y, label="tanh(x)")
    plt.title("tanh plot")
    plt.xlabel("x")
    plt.ylabel("tanh(x)")
    plt.axhline(0, color="black", linewidth=0.5)
    plt.axvline(0, color="black", linewidth=0.5)
    plt.grid(color="gray", linestyle="--", linewidth=0.5)
    plt.legend()
    plt.show("tanh.jpg")


def solver():
    w = 3
    n_iters = 1000
    eta = 0
    tanh = lambda x: np.tanh(x - 1) + eta

    for k in range(n_iters):
        a_k = 1.0 / (k + 1)
        w = w - a_k * tanh(w)

    print(f"final value of w is : {w}")


if __name__ == "__main__":
    plot_tanh()
    solver()




