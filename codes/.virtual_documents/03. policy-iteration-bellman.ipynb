




















import numpy as np

def solver():
    n_states = 2
    n_actions = 3
    r_boundary = -1
    r_target = 1
    r_others = 0
    gamma = 0.9

    # 动作与索引的映射
    actions_map = {'left': 0, 'unchanged': 1, 'right': 2}
    actions_map_reversed = {str(v): k for k, v in actions_map.items()}

    # 行索引代表state（s1、s2)，列索引代表某个action(left、unchanged、right)，值代表reward
    r_tabel = np.array(
        [
            [r_boundary, r_others, r_target],
            [r_others, r_target, r_boundary]
        ]
    )

    # 行索引代表state（s1、s2)，列索引代表某个action(left、unchanged、right)，值代表下一时刻所在的state索引
    s_table = np.array(
        [
            [0, 0, 1],
            [0, 1, 1]
        ] 
    )

    nk_iters = 10   # 外层循环
    nj_iters = 100  # 内存循环
    pi_k = [actions_map['left'], actions_map['left']] # 初始值pi
    s_value_tabel = np.zeros(n_states, dtype=np.float32)   # 初始化state value

    for outer_iter_k in range(nk_iters):       # 遍历外层循环   
        #计算state value
        for state_index in range(n_states):         # 遍历每个状态
            for inner_iter_j in range(nj_iters):    # 遍历内层循环
                action_index = pi_k[state_index]  # 当前state采取的动作索引 
                next_state_index = s_table[state_index, action_index]   # 当前state采取动作action后下一时刻到达的state 
                s_value_tabel[state_index] = r_tabel[state_index, action_index] + gamma * s_value_tabel[next_state_index]    # 迭代计算state value
        
        # 计算action value    
        q_value_table = np.zeros([n_states, n_actions], dtype=np.float32)   # 初始化action value
        for state_index in range(n_states):
            for action_index in range(n_actions):
                next_state_index = s_table[state_index, action_index]   # 当前state采取动作action后下一时刻到达的state 
                q_value_table[state_index, action_index] = r_tabel[state_index, action_index] + gamma * s_value_tabel[next_state_index]
                
        # 更新策略    
        pi_k = np.argmax(q_value_table, axis=1).tolist()    

    for state_index in range(n_states):
        print(f'Optimal policy for state {state_index} is {actions_map_reversed[str(pi_k[state_index])]}')
        

if __name__ == '__main__':
    solver()


