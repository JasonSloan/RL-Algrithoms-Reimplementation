{
 "cells": [
  {
   "cell_type": "markdown",
   "id": "64ebe80f",
   "metadata": {},
   "source": [
    "### 策略迭代算法伪代码："
   ]
  },
  {
   "cell_type": "markdown",
   "id": "79907408",
   "metadata": {},
   "source": [
    "![](assets/99.jpg)"
   ]
  },
  {
   "cell_type": "markdown",
   "id": "1f2ef599",
   "metadata": {},
   "source": [
    "### 例子\n",
    "(a)为初始策略，（b）为最优策略"
   ]
  },
  {
   "cell_type": "markdown",
   "id": "b3c6a376",
   "metadata": {
    "tags": []
   },
   "source": [
    "![](assets/100.jpg)"
   ]
  },
  {
   "cell_type": "markdown",
   "id": "8cf77546",
   "metadata": {
    "tags": []
   },
   "source": [
    "![](assets/101.jpg)"
   ]
  },
  {
   "cell_type": "markdown",
   "id": "50e7293b",
   "metadata": {
    "tags": []
   },
   "source": [
    "![](assets/102.jpg)"
   ]
  },
  {
   "cell_type": "markdown",
   "id": "40efad96",
   "metadata": {
    "tags": []
   },
   "source": [
    "### 上述例子代码实现"
   ]
  },
  {
   "cell_type": "code",
   "execution_count": null,
   "id": "8fbca693",
   "metadata": {},
   "outputs": [],
   "source": [
    "import numpy as np\n",
    "\n",
    "def solver():\n",
    "    n_states = 2\n",
    "    n_actions = 3\n",
    "    r_boundary = -1\n",
    "    r_target = 1\n",
    "    r_others = 0\n",
    "    gamma = 0.9\n",
    "\n",
    "    # 动作与索引的映射\n",
    "    actions_map = {'left': 0, 'unchanged': 1, 'right': 2}\n",
    "    actions_map_reversed = {str(v): k for k, v in actions_map.items()}\n",
    "\n",
    "    # 行索引代表state（s1、s2)，列索引代表某个action(left、unchanged、right)，值代表reward\n",
    "    r_tabel = np.array(\n",
    "        [\n",
    "            [r_boundary, r_others, r_target],\n",
    "            [r_others, r_target, r_boundary]\n",
    "        ]\n",
    "    )\n",
    "\n",
    "    # 行索引代表state（s1、s2)，列索引代表某个action(left、unchanged、right)，值代表下一时刻所在的state索引\n",
    "    s_table = np.array(\n",
    "        [\n",
    "            [0, 0, 1],\n",
    "            [0, 1, 1]\n",
    "        ] \n",
    "    )\n",
    "\n",
    "    nk_iters = 10   # 外层循环\n",
    "    nj_iters = 100  # 内存循环\n",
    "    pi_k = [actions_map['left'], actions_map['left']] # 初始值pi\n",
    "    s_value_tabel = np.zeros(n_states, dtype=np.float32)   # 初始化state value\n",
    "\n",
    "    for outer_iter_k in range(nk_iters):       # 遍历外层循环   \n",
    "        #计算state value\n",
    "        for state_index in range(n_states):         # 遍历每个状态\n",
    "            for inner_iter_j in range(nj_iters):    # 遍历内层循环\n",
    "                action_index = pi_k[state_index]  # 当前state采取的动作索引 \n",
    "                next_state_index = s_table[state_index, action_index]   # 当前state采取动作action后下一时刻到达的state \n",
    "                s_value_tabel[state_index] = r_tabel[state_index, action_index] + gamma * s_value_tabel[next_state_index]    # 迭代计算state value\n",
    "        \n",
    "        # 计算action value    \n",
    "        q_value_table = np.zeros([n_states, n_actions], dtype=np.float32)   # 初始化action value\n",
    "        for state_index in range(n_states):\n",
    "            for action_index in range(n_actions):\n",
    "                next_state_index = s_table[state_index, action_index]   # 当前state采取动作action后下一时刻到达的state \n",
    "                q_value_table[state_index, action_index] = r_tabel[state_index, action_index] + gamma * s_value_tabel[next_state_index]\n",
    "                \n",
    "        # 更新策略    \n",
    "        pi_k = np.argmax(q_value_table, axis=1).tolist()    \n",
    "\n",
    "    for state_index in range(n_states):\n",
    "        print(f'Optimal policy for state {state_index} is {actions_map_reversed[str(pi_k[state_index])]}')\n",
    "        \n",
    "\n",
    "if __name__ == '__main__':\n",
    "    solver()\n",
    "\n"
   ]
  }
 ],
 "metadata": {
  "kernelspec": {
   "display_name": "Python 3 (ipykernel)",
   "language": "python",
   "name": "python3"
  },
  "language_info": {
   "codemirror_mode": {
    "name": "ipython",
    "version": 3
   },
   "file_extension": ".py",
   "mimetype": "text/x-python",
   "name": "python",
   "nbconvert_exporter": "python",
   "pygments_lexer": "ipython3",
   "version": "3.11.5"
  }
 },
 "nbformat": 4,
 "nbformat_minor": 5
}
